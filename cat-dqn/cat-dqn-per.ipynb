{
  "cells": [
    {
      "cell_type": "markdown",
      "metadata": {
        "id": "KK0o1IZFtA7V"
      },
      "source": [
        "# Google Colab用セットアップ"
      ]
    },
    {
      "cell_type": "code",
      "execution_count": null,
      "metadata": {
        "id": "OvhNNBEVCIxH"
      },
      "outputs": [],
      "source": [
        "%cd /content/\n",
        "!git clone https://github.com/nekoneko02/cat-brain.git\n",
        "%cd cat-brain\n",
        "!git checkout origin/cnn\n"
      ]
    },
    {
      "cell_type": "code",
      "execution_count": null,
      "metadata": {
        "id": "zkOy-su0Gv80"
      },
      "outputs": [],
      "source": [
        "%cd /content\n",
        "!mv /content/cat-brain /content/cat_brain\n",
        "!mv /content/cat_brain/cat-dqn /content/cat_brain/cat_dqn\n",
        "!sed -i 's|\\.\\./cat-game/config/common\\.json|/content/cat_brain/cat-game/config/common.json|g' /content/cat_brain/cat_dqn/cat_toy_env.py"
      ]
    },
    {
      "cell_type": "markdown",
      "metadata": {
        "id": "m1AXujtu1Kci"
      },
      "source": [
        "# 強化学習モデルの学習 (PER実装版)\n",
        "\n",
        "このノートブックでは、DQNアルゴリズムにPrioritized Experience Replay (PER)を実装し、`CatToyEnv`環境でモデルを学習させます。"
      ]
    },
    {
      "cell_type": "code",
      "execution_count": null,
      "metadata": {
        "id": "dkqesDnh1Kcg"
      },
      "outputs": [],
      "source": [
        "!apt install cmake swig zlib1g-dev\n",
        "%pip install torch torchvision\n",
        "%pip install numpy onnx\n",
        "%pip install pettingzoo[all]\n",
        "%pip install torchrl\n"
      ]
    },
    {
      "cell_type": "code",
      "execution_count": null,
      "metadata": {
        "id": "Dz-KT21E1Kcj"
      },
      "outputs": [],
      "source": [
        "from pettingzoo.test import api_test\n",
        "from cat_toy_env import CatToyEnv\n",
        "env_kwargs=dict(render_mode=None, max_steps=1000)\n",
        "\n",
        "# 1個だけ環境を作る（並列ではなく）\n",
        "env = CatToyEnv(**env_kwargs)\n",
        "api_test(env, num_cycles=1000, verbose_progress=False)"
      ]
    },
    {
      "cell_type": "code",
      "execution_count": null,
      "metadata": {
        "id": "3FZFULGI1Kcj"
      },
      "outputs": [],
      "source": [
        "import gymnasium as gym\n",
        "import torch\n",
        "\n",
        "from cat_toy_env import CatToyEnv\n",
        "#from cat_brain.cat_dqn.cat_toy_env import CatToyEnv # Google Colab用\n",
        "\n",
        "import torch\n",
        "import torch.nn as nn\n",
        "import torch.optim as optim\n",
        "import torch.nn.functional as F\n",
        "from torchrl.data import PrioritizedReplayBuffer, LazyTensorStorage\n",
        "from torchrl.data.replay_buffers.samplers import PrioritizedSampler\n",
        "import torchrl.modules as rlnn\n",
        "import numpy as np\n",
        "import random\n",
        "from collections import deque\n",
        "import os\n",
        "import json\n",
        "\n",
        "device = torch.device(\"cuda\" if torch.cuda.is_available() else \"cpu\")\n",
        "print(device)"
      ]
    },
    {
      "cell_type": "code",
      "execution_count": null,
      "metadata": {},
      "outputs": [],
      "source": [
        "import importlib\n",
        "import cat_toy_env\n",
        "\n",
        "# モジュールを再読み込み\n",
        "importlib.reload(cat_toy_env)\n",
        "\n",
        "# クラスを再インポート\n",
        "from cat_toy_env import CatToyEnv\n"
      ]
    },
    {
      "cell_type": "code",
      "execution_count": null,
      "metadata": {
        "id": "YmXaM6bd1Kck"
      },
      "outputs": [],
      "source": [
        "num_iterations = 100\n",
        "num_episodes_per_iteration = 1\n",
        "num_steps_per_episode = 100000\n",
        "# num_epoches = 1\n",
        "# num_replays_per_episode = num_epoches * num_episodes_per_iteration * num_steps_per_episode\n",
        "update_target_steps = 10\n",
        "replay_interval = 6\n",
        "buffer_size = 10000\n",
        "batch_size = 64\n",
        "\n",
        "with open('../cat-game/config/common.json', 'r') as f:\n",
        "  config = json.load(f)\n",
        "v_max = config[\"model\"][\"v_max\"]\n",
        "v_min = config[\"model\"][\"v_min\"]\n",
        "num_atoms = config[\"model\"][\"num_atoms\"]\n",
        "  "
      ]
    },
    {
      "cell_type": "code",
      "execution_count": null,
      "metadata": {
        "id": "9Kecc2h61Kck"
      },
      "outputs": [],
      "source": [
        "env_kwargs=dict(render_mode=None, max_steps = num_steps_per_episode)\n",
        "# 1個だけ環境を作る\n",
        "env_preview = CatToyEnv(**env_kwargs)\n",
        "\n",
        "obs = env_preview.reset()\n",
        "\n",
        "# 観測のshapeを確認\n",
        "print(\"観測の形:\", obs)\n",
        "print(\"観測の中身:\", obs)\n",
        "# 学習用環境\n",
        "env_learning = CatToyEnv(**env_kwargs)"
      ]
    },

  ],
  "metadata": {
    "accelerator": "GPU",
    "colab": {
      "gpuType": "T4",
      "provenance": []
    },
    "kernelspec": {
      "display_name": "base",
      "language": "python",
      "name": "python3"
    },
    "language_info": {
      "codemirror_mode": {
        "name": "ipython",
        "version": 3
      },
      "file_extension": ".py",
      "mimetype": "text/x-python",
      "name": "python",
      "nbconvert_exporter": "python",
      "pygments_lexer": "ipython3",
      "version": "3.11.3"
    }
  },
  "nbformat": 4,
  "nbformat_minor": 0
}