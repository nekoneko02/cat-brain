{
  "cells": [
    {
      "cell_type": "markdown",
      "metadata": {
        "id": "KK0o1IZFtA7V"
      },
      "source": [
        "# Google Colab用セットアップ"
      ]
    },
    {
      "cell_type": "code",
      "execution_count": null,
      "metadata": {
        "id": "OvhNNBEVCIxH"
      },
      "outputs": [],
      "source": [
        "%cd /content/\n",
        "!git clone https://github.com/nekoneko02/cat-brain.git\n",
        "%cd cat-brain\n",
        "!git checkout origin/cnn\n"
      ]
    },
    {
      "cell_type": "code",
      "execution_count": null,
      "metadata": {
        "id": "zkOy-su0Gv80"
      },
      "outputs": [],
      "source": [
        "%cd /content\n",
        "!mv /content/cat-brain /content/cat_brain\n",
        "!mv /content/cat_brain/cat-dqn /content/cat_brain/cat_dqn\n",
        "!sed -i 's|\\.\\./cat-game/config/common\\.json|/content/cat_brain/cat-game/config/common.json|g' /content/cat_brain/cat_dqn/cat_toy_env.py"
      ]
    },
    {
      "cell_type": "markdown",
      "metadata": {
        "id": "m1AXujtu1Kci"
      },
      "source": [
        "# 強化学習モデルの学習 (main.py)\n",
        "\n",
        "このセルでは、DQNアルゴリズムを用いて、`CartPole-v1`環境でモデルを学習させます。"
      ]
    },
    {
      "cell_type": "code",
      "execution_count": null,
      "metadata": {
        "id": "dkqesDnh1Kcg"
      },
      "outputs": [],
      "source": [
        "!apt install cmake swig zlib1g-dev\n",
        "%pip install torch torchvision\n",
        "%pip install numpy onnx\n",
        "%pip install pettingzoo[all]\n",
        "%pip install torchrl\n",
        "%pip install tensordict\n"
      ]
    },
    {
      "cell_type": "code",
      "execution_count": null,
      "metadata": {
        "id": "Dz-KT21E1Kcj"
      },
      "outputs": [],
      "source": [
        "from pettingzoo.test import api_test\n",
        "from cat_toy_env import CatToyEnv\n",
        "env_kwargs=dict(render_mode=None, max_steps=1000)\n",
        "\n",
        "# 1個だけ環境を作る（並列ではなく）\n",
        "env = CatToyEnv(**env_kwargs)\n",
        "api_test(env, num_cycles=1000, verbose_progress=False)"
      ]
    },
    {
      "cell_type": "code",
      "execution_count": null,
      "metadata": {
        "id": "3FZFULGI1Kcj"
      },
      "outputs": [],
      "source": [
        "import torch\n",
        "import os\n",
        "import json\n",
        "\n",
        "device = torch.device(\"cuda\" if torch.cuda.is_available() else \"cpu\")\n",
        "print(device)"
      ]
    },
    {
      "cell_type": "code",
      "execution_count": null,
      "metadata": {},
      "outputs": [],
      "source": [
        "import importlib\n",
        "import cat_toy_env\n",
        "import train\n",
        "import dqn_agent\n",
        "# モジュールを再読み込み\n",
        "importlib.reload(cat_toy_env)\n",
        "importlib.reload(train)\n",
        "importlib.reload(dqn_agent)\n",
        "\n",
        "# クラスを再インポート\n",
        "from cat_toy_env import CatToyEnv\n",
        "from train import train_dqn, evaluate_model\n",
        "from dqn_agent import DQNAgent"
      ]
    },
    {
      "cell_type": "code",
      "execution_count": null,
      "metadata": {
        "id": "YmXaM6bd1Kck"
      },
      "outputs": [],
      "source": [
        "env_kwargs=dict(render_mode=None)\n",
        "# 1個だけ環境を作る\n",
        "env_preview = CatToyEnv(**env_kwargs)\n",
        "\n",
        "# 観測のshapeを確認\n",
        "print(\"観測の中身:\", env_preview.reset())\n",
        "\n",
        "# num_epoches = 1\n",
        "# num_replays_per_episode = num_epoches * num_episodes_per_iteration * num_steps_per_episode\n",
        "\n",
        "batch_size = 64\n",
        "num_steps_per_episode=100000\n",
        "\n",
        "with open('../cat-game/config/common.json', 'r') as f:\n",
        "  config_file = json.load(f)\n",
        "common_categorical_config={\n",
        "  \"v_max\": config_file[\"model\"][\"v_max\"],\n",
        "  \"v_min\": config_file[\"model\"][\"v_min\"],\n",
        "  \"num_atoms\": config_file[\"model\"][\"num_atoms\"]\n",
        "}\n",
        " \n",
        "config = {\n",
        "  \"train\":{\n",
        "    \"num_iterations\": 150,\n",
        "    \"num_episodes_per_iteration\": 1,\n",
        "    \"update_target_steps\": 10,\n",
        "    \"replay_interval\": 6,\n",
        "    \"batch_size\": 64\n",
        "  },\n",
        "  \"cat\": {\n",
        "    \"dqn\": {\n",
        "      \"input_dim\": env_preview.observation_spaces[\"cat\"].shape[0],\n",
        "      \"rnn\": {\n",
        "        \"hidden_dim\": config_file[\"model\"][\"hidden_size\"],\n",
        "        \"sequence_length\": 5\n",
        "      },\n",
        "      \"feature\": [\n",
        "        256,\n",
        "        256\n",
        "      ],\n",
        "      \"value_stream\": [\n",
        "        128,\n",
        "        1\n",
        "      ],\n",
        "      \"advantage_stream\": [\n",
        "        128,\n",
        "        env_preview.action_spaces[\"cat\"].n\n",
        "      ],\n",
        "      \"categorical\": common_categorical_config\n",
        "    },\n",
        "    \"agent\": {\n",
        "      \"state_shape\": env_preview.observation_spaces[\"cat\"].shape[0],\n",
        "      \"action_space\": env_preview.action_spaces[\"cat\"],\n",
        "      \"buffer\": {\n",
        "        \"size\": 10000,\n",
        "        \"alpha\": 0.6,\n",
        "        \"beta\": 0.4\n",
        "      },\n",
        "      \"learning_rate\": 1e-4,\n",
        "      \"discount_rate\": 0.995\n",
        "    }\n",
        "  },\n",
        "  \"toy\": {\n",
        "    \"dqn\": {\n",
        "      \"input_dim\": env_preview.observation_spaces[\"toy\"].shape[0],\n",
        "      \"feature\": [\n",
        "        64,\n",
        "        64\n",
        "      ],\n",
        "      \"value_stream\": [\n",
        "        64,\n",
        "        1\n",
        "      ],\n",
        "      \"advantage_stream\": [\n",
        "        64,\n",
        "        env_preview.action_spaces[\"toy\"].n\n",
        "      ],\n",
        "      \"categorical\": common_categorical_config\n",
        "    },\n",
        "    \"agent\": {\n",
        "      \"state_shape\": env_preview.observation_spaces[\"toy\"].shape[0],\n",
        "      \"action_space\": env_preview.action_spaces[\"toy\"],\n",
        "      \"buffer\": {\n",
        "        \"size\": 10000,\n",
        "        \"alpha\": 0.6,\n",
        "        \"beta\": 0.4\n",
        "      },\n",
        "      \"learning_rate\": 1e-4,\n",
        "      \"discount_rate\": 0.995\n",
        "    }\n",
        "  }\n",
        "}"
      ]
    },
    {
      "cell_type": "code",
      "execution_count": null,
      "metadata": {
        "id": "9Kecc2h61Kck"
      },
      "outputs": [],
      "source": [
        "env_kwargs=dict(render_mode=None, max_steps = num_steps_per_episode)\n",
        "# 学習用環境\n",
        "env_learning = CatToyEnv(**env_kwargs)"
      ]
    },
    {
      "cell_type": "code",
      "execution_count": null,
      "metadata": {
        "id": "oG9n3LF71Kcl"
      },
      "outputs": [],
      "source": [
        "def save_dqn(agent_dict, base_path = \"models\"):\n",
        "    os.makedirs(base_path, exist_ok=True)\n",
        "    for agent_name, agent in agent_dict.items():\n",
        "        filepath = os.path.join(base_path, f\"{agent_name}_model.pth\")\n",
        "        agent.save_model(filepath)\n",
        "\n",
        "def load_dqn(env, agents = [\"cat\", \"toy\"] , base_path = \"models\"):\n",
        "    # エージェントの作成\n",
        "    agent_dict = {\n",
        "        agent: DQNAgent(\n",
        "            config[agent][\"dqn\"],\n",
        "            config[agent][\"agent\"],\n",
        "            device=device\n",
        "        ) for agent in agents\n",
        "    }\n",
        "    \n",
        "    # LazyLinearを初期化\n",
        "    env.reset()\n",
        "    done_agents = {agent: False for agent in agents}\n",
        "    for agent in env.agent_iter():\n",
        "        if agent not in agents:\n",
        "            env.step(0)\n",
        "            continue\n",
        "        obs, total_reward, terminated, truncated, _ = env.last()\n",
        "        done_agents[agent] = True\n",
        "        env.step(agent_dict[agent].act(obs))\n",
        "        if all(done_agents.values()):\n",
        "            break\n",
        "    # Loadする\n",
        "    for agent in agents:\n",
        "        filepath = os.path.join(base_path, f\"{agent}_model.pth\")\n",
        "        agent_dict[agent].load_model(filepath)\n",
        "    return agent_dict"
      ]
    },
    {
      "cell_type": "code",
      "execution_count": null,
      "metadata": {
        "id": "xLgDfZG71Kcl"
      },
      "outputs": [],
      "source": [
        "# エージェントの作成\n",
        "agents = [\"cat\", \"toy\"]\n",
        "\n",
        "agent_dict = {\n",
        "    agent: DQNAgent(\n",
        "        config[agent][\"dqn\"],\n",
        "        config[agent][\"agent\"],\n",
        "        device=device\n",
        "    ) for agent in agents\n",
        "}\n"
      ]
    },
    {
      "cell_type": "code",
      "execution_count": null,
      "metadata": {},
      "outputs": [],
      "source": [
        "agent_dict[\"toy\"].act([1,1,1,1])"
      ]
    },
    {
      "cell_type": "code",
      "execution_count": null,
      "metadata": {
        "id": "4xTPuUOp1Kcm"
      },
      "outputs": [],
      "source": [
        "# 学習\n",
        "train_dqn(agent_dict, env_learning, config[\"train\"])\n"
      ]
    },
    {
      "cell_type": "code",
      "execution_count": null,
      "metadata": {
        "id": "NFi-1ElS1Kcm"
      },
      "outputs": [],
      "source": [
        "# 評価用環境\n",
        "env_kwargs=dict(render_mode=\"human\", max_steps=3000)\n",
        "env_eval = CatToyEnv(**env_kwargs)\n",
        "\n",
        "# モデル評価\n",
        "mean_std_rewards = evaluate_model(agent_dict, env_eval, n_eval_episodes=1)\n",
        "print(f\"mean_reward: {mean_std_rewards['cat']} +/- {mean_std_rewards['toy']}\")"
      ]
    },
    {
      "cell_type": "code",
      "execution_count": null,
      "metadata": {
        "id": "4nxtVPpX1Kcm"
      },
      "outputs": [],
      "source": [
        "# モデルの保存\n",
        "save_dqn(agent_dict, \"models\")"
      ]
    },
    {
      "cell_type": "code",
      "execution_count": null,
      "metadata": {
        "id": "Q6yAWlhoAsEI"
      },
      "outputs": [],
      "source": [
        "\"\"\"\n",
        "# Google Colab用 Artifact保存\n",
        "%cd /content/cat_brain/cat_dqn\n",
        "save_dqn(agent_dict, \"models\")\n",
        "!git config --global user.email \"taka.flemish.giant@gmail.com\"\n",
        "!git config --global user.name \"nekoneko02\"\n",
        "!git pull\n",
        "!git add models/*\n",
        "!git commit -m \"Model保存 from Google Colab\"\n",
        "!git push origin HEAD:google-colab-artifact\n",
        "\"\"\""
      ]
    },
    {
      "cell_type": "code",
      "execution_count": 20,
      "metadata": {
        "id": "PbYpfaqP1Kcm"
      },
      "outputs": [
        {
          "name": "stderr",
          "output_type": "stream",
          "text": [
            "/home/otsu/anaconda3/lib/python3.11/site-packages/torch/onnx/utils.py:1863: UserWarning: Provided key hidden_state for dynamic axes is not a valid input/output name\n",
            "  warnings.warn(\n",
            "/home/otsu/anaconda3/lib/python3.11/site-packages/torch/onnx/utils.py:1863: UserWarning: Provided key next_hidden_state for dynamic axes is not a valid input/output name\n",
            "  warnings.warn(\n",
            "/home/otsu/anaconda3/lib/python3.11/site-packages/torch/onnx/symbolic_opset9.py:4244: UserWarning: Exporting a model to ONNX with a batch_size other than 1, with a variable length with GRU can cause an error when running the ONNX model with a different batch size. Make sure to save the model with a batch size of 1, or define the initial states (h0/c0) as inputs of the model. \n",
            "  warnings.warn(\n"
          ]
        }
      ],
      "source": [
        "# 入力の2つのTensorを結合\n",
        "toy = torch.randn(1, 2)\n",
        "cat = torch.randn(1, 2)\n",
        "dum = torch.randn(1, 2)\n",
        "hidden_state = torch.randn(1, 1, 64)\n",
        "\n",
        "# 各入力を結合\n",
        "single_input = torch.cat([toy, cat, dum], dim=1)  # shape: (1, obs_dim)\n",
        "\n",
        "# sequence_lengthの長さに拡張\n",
        "concat_input = single_input.repeat(config[\"cat\"][\"dqn\"][\"rnn\"][\"sequence_length\"], 1).unsqueeze(0)  # shape: (1, sequence_length, obs_dim)\n",
        "\n",
        "# エクスポート対象モデル（例: policyネットワーク）\n",
        "# dummyの環境\n",
        "env_kwargs=dict(render_mode=\"human\", max_steps=1000)\n",
        "env_dummy = CatToyEnv(**env_kwargs)\n",
        "\n",
        "# モデルのロード\n",
        "loaded_model = load_dqn(env_dummy, [\"cat\", \"toy\"], \"models\")\n",
        "policy_net = loaded_model[\"cat\"].model  # catエージェントのポリシーネットワークを取得\n",
        "\n",
        "# ONNX エクスポート\n",
        "torch.onnx.export(\n",
        "    policy_net,\n",
        "    (concat_input),  # RNN用の入力は (入力テンソル, 隠れ状態) とする\n",
        "    \"cat_dqn_policy.onnx\",\n",
        "    export_params=True,\n",
        "    opset_version=11,\n",
        "    input_names=[\"obs\"],\n",
        "    output_names=[\"probabilities\"],\n",
        "    dynamic_axes={\n",
        "        \"obs\": {0: \"batch_size\"},  # 観測データのバッチ次元を可変に\n",
        "        \"hidden_state\": {0: \"batch_size\"},  # 隠れ状態のバッチ次元を可変に\n",
        "        \"probabilities\": {0: \"batch_size\"},\n",
        "        \"next_hidden_state\": {0: \"batch_size\"}\n",
        "    }\n",
        ")"
      ]
    },
    {
      "cell_type": "code",
      "execution_count": null,
      "metadata": {},
      "outputs": [],
      "source": []
    }
  ],
  "metadata": {
    "accelerator": "GPU",
    "colab": {
      "gpuType": "T4",
      "provenance": []
    },
    "kernelspec": {
      "display_name": "base",
      "language": "python",
      "name": "python3"
    },
    "language_info": {
      "codemirror_mode": {
        "name": "ipython",
        "version": 3
      },
      "file_extension": ".py",
      "mimetype": "text/x-python",
      "name": "python",
      "nbconvert_exporter": "python",
      "pygments_lexer": "ipython3",
      "version": "3.11.3"
    }
  },
  "nbformat": 4,
  "nbformat_minor": 0
}
