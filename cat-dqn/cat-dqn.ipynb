{
 "cells": [
  {
   "cell_type": "code",
   "execution_count": null,
   "metadata": {},
   "outputs": [],
   "source": [
    "%pip install gymnasium stable-baselines3 torch\n",
    "%pip install stable-baselines3[extra]\n",
    "%pip install sb3-contrib\n",
    "%pip install torch torchvision\n",
    "%pip install numpy protobuf onnx onnxruntime\n",
    "%pip install onnx\n"
   ]
  },
  {
   "cell_type": "markdown",
   "metadata": {},
   "source": [
    "# 強化学習モデルの学習 (main.py)\n",
    "\n",
    "このセルでは、DQNアルゴリズムを用いて、`CartPole-v1`環境でモデルを学習させます。"
   ]
  },
  {
   "cell_type": "code",
   "execution_count": null,
   "metadata": {},
   "outputs": [],
   "source": [
    "import gymnasium as gym\n",
    "from stable_baselines3 import DQN\n",
    "from stable_baselines3.common.evaluation import evaluate_policy\n",
    "from stable_baselines3.common.env_util import make_vec_env\n",
    "import torch\n",
    "from cat_toy_env import CatToyEnv"
   ]
  },
  {
   "cell_type": "code",
   "execution_count": null,
   "metadata": {},
   "outputs": [],
   "source": [
    "env_kwargs=dict(render_mode=None, max_steps=1000)\n",
    "\n",
    "# 1個だけ環境を作る（並列ではなく）\n",
    "env_preview = CatToyEnv(**env_kwargs)\n",
    "\n",
    "obs = env_preview.reset()\n",
    "\n",
    "# 観測のshapeを確認\n",
    "print(\"観測の形:\", obs)\n",
    "print(\"観測の中身:\", obs)\n",
    "# 学習用環境（4並列）\n",
    "env_learning = make_vec_env(CatToyEnv, n_envs=4, env_kwargs=env_kwargs)\n",
    "\n",
    "# 評価用環境（1つ）\n",
    "env_eval = make_vec_env(CatToyEnv, n_envs=1, env_kwargs=env_kwargs)"
   ]
  },
  {
   "cell_type": "code",
   "execution_count": null,
   "metadata": {},
   "outputs": [],
   "source": [
    "model_learning = DQN(\n",
    "    \"MlpPolicy\",\n",
    "    env_learning,\n",
    "    verbose=1,\n",
    "    learning_starts=1000,\n",
    "    buffer_size=10000,\n",
    "    exploration_fraction=0.2,\n",
    "    exploration_final_eps=0.01,\n",
    "    exploration_initial_eps=1.0,\n",
    "    target_update_interval=1000,\n",
    "    train_freq=8,\n",
    "    gradient_steps=2,\n",
    "    batch_size=64,\n",
    "    gamma=0.99,\n",
    "    learning_rate=1e-4,\n",
    "    policy_kwargs=dict(net_arch=[256, 256])\n",
    ")\n"
   ]
  },
  {
   "cell_type": "code",
   "execution_count": null,
   "metadata": {},
   "outputs": [],
   "source": [
    "# モデルの学習\n",
    "model_learning.learn(total_timesteps=200000, progress_bar=False, log_interval=10)\n",
    "\n",
    "# モデルの評価（評価環境は1つ）\n",
    "mean_reward, std_reward = evaluate_policy(model_learning, env_eval, n_eval_episodes=10)\n",
    "print(f\"mean_reward: {mean_reward:.2f} +/- {std_reward:.2f}\")\n"
   ]
  },
  {
   "cell_type": "code",
   "execution_count": null,
   "metadata": {},
   "outputs": [],
   "source": [
    "# モデルの保存\n",
    "model_learning.save(\"cat_dqn\")\n"
   ]
  },
  {
   "cell_type": "code",
   "execution_count": null,
   "metadata": {},
   "outputs": [],
   "source": [
    "# モデルのロード\n",
    "loaded_model = DQN.load(\"cat_dqn\")\n",
    "\n",
    "# ロードしたモデルの評価\n",
    "mean_reward, std_reward = evaluate_policy(loaded_model, env_eval, n_eval_episodes=10)\n",
    "print(f\"loaded_mean_reward:{mean_reward:.2f} +/- {std_reward:.2f}\")"
   ]
  },
  {
   "cell_type": "code",
   "execution_count": null,
   "metadata": {},
   "outputs": [],
   "source": [
    "# 入力の2つのTensorを結合\n",
    "toy = torch.randn(1, 2)\n",
    "cat = torch.randn(1, 2)\n",
    "concat_input = torch.cat([toy, cat], dim=1)  # shape: (1, 4)\n",
    "\n",
    "# エクスポート対象モデル（例: policyネットワーク）\n",
    "policy_net = loaded_model.policy.q_net\n",
    "\n",
    "# ONNXエクスポート\n",
    "torch.onnx.export(\n",
    "    policy_net,\n",
    "    concat_input,  # ← dictではなく単一Tensor\n",
    "    \"cat_dqn_policy.onnx\",\n",
    "    export_params=True,\n",
    "    opset_version=11,\n",
    "    input_names=[\"obs\"],\n",
    "    output_names=[\"q_values\"],\n",
    "    dynamic_axes={\n",
    "        \"obs\": {0: \"batch_size\"},\n",
    "        \"q_values\": {0: \"batch_size\"}\n",
    "    }\n",
    ")\n"
   ]
  },
  {
   "cell_type": "code",
   "execution_count": null,
   "metadata": {},
   "outputs": [],
   "source": [
    "# 環境のクローズ\n",
    "env_learning.close()\n",
    "env_eval.close()"
   ]
  },
  {
   "cell_type": "markdown",
   "metadata": {},
   "source": [
    "# 学習済みモデルの使用 (play.py)\n",
    "\n",
    "このセルでは、学習済みのモデルをロードし、`CartPole-v1`環境でエージェントがどのように行動するかを観察します。"
   ]
  },
  {
   "cell_type": "code",
   "execution_count": null,
   "metadata": {},
   "outputs": [],
   "source": [
    "import gymnasium as gym\n",
    "from stable_baselines3 import DQN\n",
    "import time\n",
    "from cat_toy_env import CatToyEnv"
   ]
  },
  {
   "cell_type": "code",
   "execution_count": null,
   "metadata": {},
   "outputs": [],
   "source": [
    "env_kwargs=dict(render_mode=\"\", max_steps=1000, cat_speed = 2)\n",
    "\n",
    "# 環境の作成\n",
    "env = CatToyEnv(**env_kwargs)\n",
    "\n",
    "# モデルのロード\n",
    "model_playing = DQN.load(\"cat_dqn\")"
   ]
  },
  {
   "cell_type": "code",
   "execution_count": null,
   "metadata": {},
   "outputs": [],
   "source": [
    "# エピソードの実行\n",
    "obs, info = env.reset()\n",
    "done = False\n",
    "while not done:\n",
    "    action, _states = model_playing.predict(obs, deterministic=True)\n",
    "    obs, reward, terminated, truncated, info = env.step(action)\n",
    "    print(\"観測:\", obs)\n",
    "    done = terminated or truncated\n",
    "    env.render()  # 環境の描画\n",
    "    #time.sleep(0.001) # 0.01秒待機"
   ]
  },
  {
   "cell_type": "code",
   "execution_count": null,
   "metadata": {},
   "outputs": [],
   "source": [
    "# 環境のクローズ\n",
    "env.close()"
   ]
  },
  {
   "cell_type": "code",
   "execution_count": null,
   "metadata": {},
   "outputs": [],
   "source": []
  }
 ],
 "metadata": {
  "kernelspec": {
   "display_name": "base",
   "language": "python",
   "name": "python3"
  },
  "language_info": {
   "codemirror_mode": {
    "name": "ipython",
    "version": 3
   },
   "file_extension": ".py",
   "mimetype": "text/x-python",
   "name": "python",
   "nbconvert_exporter": "python",
   "pygments_lexer": "ipython3",
   "version": "3.11.3"
  }
 },
 "nbformat": 4,
 "nbformat_minor": 4
}
